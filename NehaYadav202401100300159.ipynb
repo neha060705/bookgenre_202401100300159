{
  "nbformat": 4,
  "nbformat_minor": 0,
  "metadata": {
    "colab": {
      "provenance": []
    },
    "kernelspec": {
      "name": "python3",
      "display_name": "Python 3"
    },
    "language_info": {
      "name": "python"
    }
  },
  "cells": [
    {
      "cell_type": "code",
      "source": [
        "# Import necessary libraries\n",
        "import pandas as pd\n",
        "import matplotlib.pyplot as plt\n",
        "import seaborn as sns\n",
        "\n",
        "from sklearn.model_selection import train_test_split\n",
        "from sklearn.naive_bayes import MultinomialNB\n",
        "from sklearn.preprocessing import LabelEncoder\n",
        "from sklearn.feature_extraction.text import TfidfVectorizer\n",
        "from sklearn.metrics import classification_report, accuracy_score, confusion_matrix\n",
        "\n",
        "# Step 1: Load the dataset\n",
        "file_path = '/content/book_genres.csv'  # Adjust if needed\n",
        "df = pd.read_csv(file_path)\n",
        "\n",
        "# Step 2: Check basic info\n",
        "print(\"Dataset Info:\")\n",
        "print(df.info())\n",
        "print(\"\\nFirst few rows:\")\n",
        "print(df.head())\n",
        "\n",
        "# Step 3: Handle missing values (if any)\n",
        "df.fillna('', inplace=True)\n",
        "\n",
        "# Step 4: Combine numerical features into a single string column\n",
        "df['combined_features'] = (\n",
        "    df['author_popularity'].astype(str) + ' ' +\n",
        "    df['book_length'].astype(str) + ' ' +\n",
        "    df['num_keywords'].astype(str)\n",
        ")\n",
        "\n",
        "# Step 5: Encode target (genre)\n",
        "label_encoder = LabelEncoder()\n",
        "df['label'] = label_encoder.fit_transform(df['genre'])\n",
        "\n",
        "# Step 6: Split data into training and testing sets\n",
        "X = df['combined_features']\n",
        "y = df['label']\n",
        "X_train, X_test, y_train, y_test = train_test_split(\n",
        "    X, y, test_size=0.2, random_state=42\n",
        ")\n",
        "\n",
        "# Step 7: Vectorize the combined features using TF-IDF\n",
        "vectorizer = TfidfVectorizer()\n",
        "X_train_vec = vectorizer.fit_transform(X_train)\n",
        "X_test_vec = vectorizer.transform(X_test)\n",
        "\n",
        "# Step 8: Train a Multinomial Naive Bayes classifier\n",
        "model = MultinomialNB()\n",
        "model.fit(X_train_vec, y_train)\n",
        "\n",
        "# Step 9: Make predictions and evaluate\n",
        "y_pred = model.predict(X_test_vec)\n",
        "\n",
        "# Accuracy score\n",
        "accuracy = accuracy_score(y_test, y_pred)\n",
        "print(f\"\\n✅ Accuracy: {accuracy:.2f}\")\n",
        "\n",
        "# Classification report\n",
        "print(\"\\n📋 Classification Report:\")\n",
        "print(classification_report(y_test, y_pred, target_names=label_encoder.classes_))\n",
        "\n",
        "# Step 10: Confusion matrix visualization\n",
        "cm = confusion_matrix(y_test, y_pred)\n",
        "plt.figure(figsize=(8, 6))\n",
        "sns.heatmap(cm, annot=True, fmt='d', cmap='Blues',\n",
        "            xticklabels=label_encoder.classes_,\n",
        "            yticklabels=label_encoder.classes_)\n",
        "plt.title(\"📊 Confusion Matrix\")\n",
        "plt.xlabel(\"Predicted\")\n",
        "plt.ylabel(\"Actual\")\n",
        "plt.show()\n",
        "\n",
        "# Step 11: Prediction function\n",
        "def predict_genre(author_popularity, book_length, num_keywords):\n",
        "    \"\"\"\n",
        "    Predicts the genre of a book using metadata features.\n",
        "    \"\"\"\n",
        "    text = f\"{author_popularity} {book_length} {num_keywords}\"\n",
        "    vec = vectorizer.transform([text])\n",
        "    label = model.predict(vec)[0]\n",
        "    return label_encoder.inverse_transform([label])[0]\n",
        "\n",
        "# Step 12: Example usage\n",
        "print(\"\\n🎯 Example Prediction:\")\n",
        "example = predict_genre(75.5, 680, 12)\n",
        "print(\"Predicted Genre:\", example)\n"
      ],
      "metadata": {
        "colab": {
          "base_uri": "https://localhost:8080/",
          "height": 1000
        },
        "id": "SIaRIeiH2xV6",
        "outputId": "4051bd7a-4706-4591-d9b7-4a0f551e7a7f"
      },
      "execution_count": 9,
      "outputs": [
        {
          "output_type": "stream",
          "name": "stdout",
          "text": [
            "Dataset Info:\n",
            "<class 'pandas.core.frame.DataFrame'>\n",
            "RangeIndex: 100 entries, 0 to 99\n",
            "Data columns (total 4 columns):\n",
            " #   Column             Non-Null Count  Dtype  \n",
            "---  ------             --------------  -----  \n",
            " 0   author_popularity  100 non-null    float64\n",
            " 1   book_length        100 non-null    int64  \n",
            " 2   num_keywords       100 non-null    int64  \n",
            " 3   genre              100 non-null    object \n",
            "dtypes: float64(1), int64(2), object(1)\n",
            "memory usage: 3.3+ KB\n",
            "None\n",
            "\n",
            "First few rows:\n",
            "   author_popularity  book_length  num_keywords    genre\n",
            "0          41.052297          776             5  mystery\n",
            "1          48.950098          674             5  mystery\n",
            "2           2.323401          633            19  fantasy\n",
            "3          41.564184          169            12  mystery\n",
            "4          65.129649          992            18  fantasy\n",
            "\n",
            "✅ Accuracy: 0.30\n",
            "\n",
            "📋 Classification Report:\n",
            "              precision    recall  f1-score   support\n",
            "\n",
            "     fantasy       0.00      0.00      0.00         4\n",
            "     fiction       0.00      0.00      0.00         1\n",
            "     mystery       0.50      0.50      0.50        10\n",
            " non-fiction       0.33      0.20      0.25         5\n",
            "\n",
            "    accuracy                           0.30        20\n",
            "   macro avg       0.21      0.17      0.19        20\n",
            "weighted avg       0.33      0.30      0.31        20\n",
            "\n"
          ]
        },
        {
          "output_type": "stream",
          "name": "stderr",
          "text": [
            "/usr/local/lib/python3.11/dist-packages/IPython/core/pylabtools.py:151: UserWarning: Glyph 128202 (\\N{BAR CHART}) missing from font(s) DejaVu Sans.\n",
            "  fig.canvas.print_figure(bytes_io, **kw)\n"
          ]
        },
        {
          "output_type": "display_data",
          "data": {
            "text/plain": [
              "<Figure size 800x600 with 2 Axes>"
            ],
            "image/png": "[encoded data removed]"
          },
          "metadata": {}
        },
        {
          "output_type": "stream",
          "name": "stdout",
          "text": [
            "\n",
            "🎯 Example Prediction:\n",
            "Predicted Genre: mystery\n"
          ]
        }
      ]
    }
  ]
}